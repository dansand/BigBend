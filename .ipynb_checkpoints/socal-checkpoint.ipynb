{
 "cells": [
  {
   "cell_type": "markdown",
   "metadata": {},
   "source": [
    "# mapping Faults into Underworld2\n",
    "\n",
    "This notebook uses the PyMesh libraray (wrapping up many third-party tools) to map the Southern California faults into Underworld2. \n",
    "\n",
    "The faults are from version 5.0 of the SCEC Community Fault Model (CFM) for southern California"
   ]
  },
  {
   "cell_type": "code",
   "execution_count": 1,
   "metadata": {
    "collapsed": false
   },
   "outputs": [],
   "source": [
    "import pymesh\n",
    "import numpy as np\n",
    "from glob import glob"
   ]
  },
  {
   "cell_type": "code",
   "execution_count": 2,
   "metadata": {
    "collapsed": true
   },
   "outputs": [],
   "source": [
    "##Read a goCAD Tsurf file and extract vertices and triangle connectivity\n",
    "\n",
    "def read_tsurf(filename):\n",
    "    with open(filename, 'r') as infile:\n",
    "        firstline = next(infile).strip()\n",
    "        if not firstline.startswith('GOCAD TSurf'):\n",
    "            raise IOError('This is not a valid TSurf file!')\n",
    "\n",
    "        # Parse Header\n",
    "        header = {}\n",
    "        line = next(infile).strip()\n",
    "        if line.startswith('HEADER'):\n",
    "            line = next(infile).strip()\n",
    "            while '}' not in line:\n",
    "                key, value = line.split(':')\n",
    "                header[key.lstrip('*')] = value\n",
    "                line = next(infile).strip()\n",
    "        name = header.get('name', filename)\n",
    "        print(name)\n",
    "        line = next(infile).strip()\n",
    "        while 'TFACE' not in line:\n",
    "            line = next(infile).strip()\n",
    "            #print(line)\n",
    "    \n",
    "    \n",
    "        # Read vertices and triangles\n",
    "        if not line.startswith('TFACE'):\n",
    "            raise IOError('Only \"TFACE\" format TSurf files are supported')\n",
    "        vertices, faces = [], []\n",
    "        for line in infile:\n",
    "            line = line.strip().split()\n",
    "            if line[0] == 'VRTX':\n",
    "                vertices.append([float(item) for item in line[2:]])\n",
    "            elif line[0] == 'TRGL':\n",
    "                faces.append([int(item)-1 for item in line[1:]])\n",
    "    #x, y, z = zip(vertices)\n",
    "    return(vertices, faces)"
   ]
  },
  {
   "cell_type": "code",
   "execution_count": 3,
   "metadata": {
    "collapsed": false
   },
   "outputs": [
    {
     "name": "stdout",
     "output_type": "stream",
     "text": [
      "SALT-IMFZ-IMPV-Imperial_fault-east-strand-south-CFM5\n"
     ]
    }
   ],
   "source": [
    "#test loading in a fault...\n",
    "\n",
    "vertices, faces = read_tsurf('CFM5_release_2014/tsurf/CFM5_socal_primary/SALT-IMFZ-IMPV-Imperial_fault-east-strand-south-CFM5.ts')\n"
   ]
  },
  {
   "cell_type": "code",
   "execution_count": 4,
   "metadata": {
    "collapsed": false
   },
   "outputs": [],
   "source": [
    "all_faults = glob('CFM5_release_2014/tsurf/CFM5_socal_primary/*.ts')"
   ]
  },
  {
   "cell_type": "code",
   "execution_count": 5,
   "metadata": {
    "collapsed": false
   },
   "outputs": [],
   "source": [
    "#few_faults = all_faults[::len(all_faults)/5]\n",
    "#few_faults "
   ]
  },
  {
   "cell_type": "code",
   "execution_count": 6,
   "metadata": {
    "collapsed": false
   },
   "outputs": [
    {
     "name": "stdout",
     "output_type": "stream",
     "text": [
      "BNRA-BMFZ-MULT-Black_Mountain_fault-CFM3\n",
      "BNRA-NDVZ-MULT-Northern_Death_Valley_fault-CFM2\n",
      "BNRA-SDVZ-MULT-Southern_Death_Valley_fault-vertical-CFM3\n",
      "CRFA-BPPM-EAST-Big_Pine_fault-CFM4\n",
      "CRFA-BPPM-LCKV-Lockwood_Valley_fault-CFM2\n",
      "CRFA-BPPM-PMTS-Pine_Mountain_fault-CFM2\n",
      "CRFA-BPPM-WEST-Big_Pine_fault-CFM2\n",
      "CRFA-CSBL-CSML-Casmalia_fault-CFM4\n",
      "CRFA-CSBL-LALM-Los_Alamos_fault-steep-CFM5\n",
      "CRFA-CSBL-ORCT-Orcutt_blind_fault-CFM5\n",
      "CRFA-CSBL-PEZN-Pezzoni_Casmalia_fault-truncated-CFM5\n",
      "CRFA-CSBL-ZACA-Zaca_blind_fault-CFM5\n",
      "CRFA-LMPZ-EAST-Lompoc_blind_ramp-CFM5\n",
      "CRFA-LMPZ-WEST-Lompoc_blind_ramp-CFM5\n",
      "CRFA-LNHZ-MULT-Lions_Head_fault-CFM4\n",
      "CRFA-LOSO-LSOS-Los_Osos_fault-CFM4\n",
      "CRFA-LPNZ-MULT-La_Panza_fault-CFM4\n",
      "CRFA-NAFZ-MULT-Nacimiento_fault-south-CFM2\n",
      "CRFA-OCNZ-SLCR-Oceanic_backthrust-CFM4\n",
      "CRFA-OCNZ-SLCR-Oceanic_fault-CFM4\n",
      "CRFA-REHZ-EHSN-East_Huasna_fault-CFM4\n",
      "CRFA-REHZ-MULT-Rinconada_fault-CFM4\n",
      "CRFA-SCFZ-SCYM-South_Cuyama_fault-CFM3\n",
      "CRFA-SJMZ-MRLS-Morales_fault-CFM3\n",
      "CRFA-SLRS-MULT-San_Luis_Range_fault_system-CFM4\n",
      "CRFA-SLRS-SHRL-Shoreline_fault-CFM4\n",
      "CRFA-SLRS-SLBS-San_Luis_Bay_fault-CFM4\n",
      "CRFA-SLRS-SYNV-Santa_Ynez_Valley_blind_fault-CFM5\n",
      "ETRA-BBFS-1992-Big_Bear_rupture-CFM2\n",
      "ETRA-BCFZ-MULT-Blue_Cut_fault-CFM2\n",
      "ETRA-CLHS-NCHS-Grass_Valley_fault-steep-CFM5\n",
      "ETRA-CLHS-SBMT-Tunnel_Ridge-Arrastre_Canyon_fault-steep-CFM5\n",
      "ETRA-CLHS-SCHS-Cleghorn_fault-steep-CFM5\n",
      "ETRA-LSBM-1992-Joshua_Tree_sequence-CFM5\n",
      "ETRA-LSBM-LGCS-Long_Canyon_fault-CFM5\n",
      "ETRA-LSBM-MULT-Burnt_Mountain-East_Wide_Canyon_fault-CFM5\n",
      "ETRA-LSBM-MULT-Eureka_Peak-West_Deception_Canyon_fault-CFM5\n",
      "ETRA-NFTS-DTMT-Deep_detachment-CFM5\n",
      "ETRA-NFTS-EAST-Eastern_North_Frontal_fault-vertical-CFM5\n",
      "ETRA-NFTS-EAST-North_Frontal_Thrust_fault-linked-CFM5\n",
      "ETRA-NFTS-WEST-North_Frontal_Thrust_fault-lowdip-CFM5\n",
      "ETRA-PMFZ-MRVS-Morongo_Valley_fault-CFM5\n",
      "ETRA-PMFZ-MULT-Pinto_Mountain_fault-CFM5\n",
      "GRFS-GRFZ-EAST-Garlock_fault-CFM5\n",
      "GRFS-GRFZ-EAST-Owl_Lake_fault-CFM5\n",
      "GRFS-GRFZ-WEST-Garlock_fault-CFM5\n",
      "GVFA-KRCS-KRCN-Kern_Canyon_fault-CFM5\n",
      "GVFA-KRCS-LISA-Lake_Isabella_lineament-CFM2\n",
      "GVFA-PLFZ-MULT-Pleito_fault-CFM2\n",
      "GVFA-TDRS-COAL-Coalinga_blind_fault-CFM2\n",
      "GVFA-TDRS-KTLM-Kettleman_Hills_blind_fault-North_Dome-CFM2\n",
      "GVFA-TDRS-LSTH-Lost_Hills_blind_fault-CFM2\n",
      "GVFA-WWFZ-EAST-Scodie_Lineament-CFM1\n",
      "GVFA-WWFZ-MULT-White_Wolf_fault-CFM1\n",
      "MJVA-BWFZ-MULT-Blackwater_fault-CFM1\n",
      "MJVA-CHFZ-MULT-Calico-Hidalgo_fault-CFM1\n",
      "MJVA-CREC-CMPR-Camp_Rock_fault-CFM5\n",
      "MJVA-CREC-CPMT-Copper_Mountain_fault-CFM5\n",
      "MJVA-CREC-EMRS-Emerson_fault-CFM5\n",
      "MJVA-CREC-EMRS-Galway_Lake_fault-CFM2\n",
      "MJVA-CREC-EMRS-North_Emerson_fault-CFM3\n",
      "MJVA-CRSF-CADY-Cady_fault-CFM1\n",
      "MJVA-CRSF-GNTM-McLean_Lake-Drinkwater_Lake_fault-CFM1\n",
      "MJVA-CRSF-GNTM-Nelson_Lake_fault-CFM1\n",
      "MJVA-CRSF-MANX-Manix_fault-CFM1\n",
      "MJVA-CRSF-TFMT-Coyote_Canyon_fault-CFM1\n",
      "MJVA-ECSZ-1992-Barstow_Trend-CFM5\n",
      "MJVA-ECSZ-1992-Landers_rupture_detailed_splays-CFM3\n",
      "MJVA-ECSZ-1999-Hector_Mine_rupture_dipping-CFM2\n",
      "MJVA-GLPS-GLDS-Goldstone_Lake_fault-CFM1\n",
      "MJVA-GLPS-PRDS-Paradise_fault-CFM1\n",
      "MJVA-HPFZ-MULT-Gravel_Hills-Harper_Lake_fault-CFM1\n",
      "MJVA-HSLZ-MULT-Helendale-South_Lockhart_fault-CFM5\n",
      "MJVA-HSLZ-SBMT-Pipes_Canyon_fault-CFM5\n",
      "MJVA-HSLZ-SBMT-Pipes_Canyon_fault-north-extension-CFM5\n",
      "MJVA-HSLZ-SBMT-Southern_Helendale_fault-CFM5\n",
      "MJVA-JVFZ-MULT-Johnson_Valley_fault-CFM3\n",
      "MJVA-JVFZ-SJVS-Kickapoo_fault-CFM3\n",
      "MJVA-JVHZ-HMSV-Homestead_Valley_fault-CFM3\n",
      "MJVA-LCLZ-LDLW-Ludlow_fault-CFM1\n",
      "MJVA-LLBM-MULT-Lavic_Lake-North_West_Bullion_fault-CFM2\n",
      "MJVA-LWLZ-MULT-Lenwood-Lockhart_fault-CFM5\n",
      "MJVA-NEMV-GRLS-Garlic_Springs_fault-CFM1\n",
      "MJVA-NEMV-RDPS-Red_Pass_fault-CFM1\n",
      "MJVA-PBMZ-MULT-Pisgah_Bullion_Mesquite_Lake_fault-CFM3\n",
      "OCBA-CBFZ-CRBS-Coronado_Bank_east_splay-SRLN-CFM5\n",
      "OCBA-CBFZ-CRBS-Coronado_Bank_fault-north-SRLN-CFM5\n",
      "OCBA-CBFZ-CRBS-Coronado_Bank_fault-south-SRLN-CFM5\n",
      "OCBA-CBFZ-CRBS-Coronado_Bank_west_splay-SRLN-CFM5\n",
      "OCBA-CBKD-CRBS-Coronado_Bank_detachment-upper-SRLN-CFM5\n",
      "OCBA-CBKD-OCNS-Coronado_Bank_detachment-upper-SRLN-CFM5\n",
      "OCBA-CRFS-RDNC-Redondo_Canyon_fault-ZION-CFM2\n",
      "OCBA-DSCZ-DSCS-Descanso_fault-east_splay-SRLN-CFM5\n",
      "OCBA-DSCZ-DSCS-Descanso_fault-SRLN-CFM5\n",
      "OCBA-DSCZ-DSCS-Descanso_fault-west_splay-SRLN-CFM5\n",
      "OCBA-ESCS-ESCB-East_Santa_Cruz_Basin_fault-A-SRLN-CFM5\n",
      "OCBA-ESCS-ESCB-East_Santa_Cruz_Basin_fault-B-SRLN-CFM5\n",
      "OCBA-ESCS-ESCB-East_Santa_Cruz_Basin_fault-D-SRLN-CFM5\n",
      "OCBA-ESCS-ESCB-East_Santa_Cruz_Basin_fault-E-SRLN-CFM5\n",
      "OCBA-ESCS-ESCB-East_Santa_Cruz_Basin_fault-main-SRLN-CFM5\n",
      "OCBA-FRFZ-SRRS-Ferrelo_fault-upper-SRLN-CFM5\n",
      "OCBA-IBFS-TMBK-Thirty_Mile_Bank_detachment-upper-RVRO-CFM1\n",
      "OCBA-OCSD-OCNS-Oceanside_detachment-RVRO-CFM1\n",
      "OCBA-PVFZ-MULT-Palos_Verdes_fault-CFM2\n",
      "OCBA-SCCR-MULT-Santa_Cruz-Catalina_Ridge_fault-CFM5\n",
      "OCBA-SCFZ-CTLB-San_Clemente_fault-splay-CFM5\n",
      "OCBA-SCFZ-SBRI-San_Clemente_fault_strand-CFM5\n",
      "OCBA-SCFZ-SCBR-San_Clemente_fault-LEGG-CFM5\n",
      "OCBA-SCFZ-SCLI-San_Clemente_fault-LEGG-CFM5\n",
      "OCBA-SDTZ-30MB-San_Diego_Trough_fault-LEGG-CFM5\n",
      "OCBA-SDTZ-CTLB-San_Diego_Trough_fault-LEGG-CFM5\n",
      "OCBA-SMCS-MULT-San_Mateo-Carlsbad_fault-SRLN-CFM5\n",
      "OCBA-SPBZ-NTHS-San_Pedro_Basin_fault-north-CFM5\n",
      "OCBA-SPBZ-STHS-San_Pedro_Basin_fault-south-LEGG-CFM5\n",
      "OCCA-HSFZ-MULT-Hosgri-San_Simeon_fault-CFM1\n",
      "PNRA-ATEV-AGCT-Agua_Caliente_fault_zone-CFM4\n",
      "PNRA-ATEV-EQVS-Earthquake_Valley_fault-east-CFM4\n",
      "PNRA-ATEV-EQVS-Earthquake_Valley_fault-main-CFM4\n",
      "PNRA-ATEV-EQVS-Earthquake_Valley_fault-west-CFM4\n",
      "PNRA-ATEV-MRHS-Hot_Springs_fault_CFM4\n",
      "PNRA-ATEV-MRHS-Murrieta-Hotsprings_fault-CFM4\n",
      "PNRA-CEPS-BLDH-Compton-Los_Alamitos_fault-CFM2\n",
      "PNRA-CEPS-LABS-Anaheim_fault-CFM1\n",
      "PNRA-CEPS-LABS-Compton-Los_Alamitos_fault-CFM2\n",
      "PNRA-CEPS-PHLS-Lower_Elysian_Park_fault-CFM1\n",
      "PNRA-CRSF-ALCM-Sawtooth_Range_fault-CFM4\n",
      "PNRA-CRSF-CHNH-Yorba_Linda_lineament-CFM2\n",
      "PNRA-CRSF-CYMT-Devils_Canyon_fault-CFM4\n",
      "PNRA-CRSF-EMCP-El_Mayor-Cucapah_normal_fault-CFM4\n",
      "PNRA-CRSF-EMCP-El_Mayor-Cucapah_west_fault-CFM4\n",
      "PNRA-CRSF-OCOT-Ocotillo_fault-CFM5\n",
      "PNRA-CRSF-OCOT-Ocotillo_set1-CFM4\n",
      "PNRA-CRSF-OCOT-Ocotillo_set2-CFM4\n",
      "PNRA-CRSF-OCOT-Ocotillo_set3-CFM4\n",
      "PNRA-CRSF-OCOT-Ocotillo_set4-CFM4\n",
      "PNRA-CRSF-OCOT-Ocotillo_set5-CFM4\n",
      "PNRA-CRSF-PGWS-Painted_Gorge_Wash_fault-CFM4\n",
      "PNRA-CRSF-USAV-Fontana_Seismicity_lineament-CFM1\n",
      "PNRA-CRSF-YUHA-Shell_Beds_fault-CFM5\n",
      "PNRA-CRSF-YUHA-Yuha_fault-CFM5\n",
      "PNRA-CRSF-YUHA-Yuha_Wash_fault-CFM5\n",
      "PNRA-CRSF-YUHA-Yuha_Well-Vista_del_Anza_fault-truncated-CFM5\n",
      "PNRA-CRSF-YUHA-Yuha_Well_fault-CFM5\n",
      "PNRA-CRSF-YUHA-Yuha_Well_fault-north_set1-CFM5\n",
      "PNRA-CRSF-YUHA-Yuha_Well_fault-northwest-steep-CFM5\n",
      "PNRA-CRSF-YUHA-Yuha_Well_fault-west-steep-CFM5\n",
      "PNRA-CSTL-SJQH-San_Joaquin_Hills_fault-truncated-CFM3\n",
      "PNRA-DVVZ-DVSV-Davies_Valley_fault-CFM5\n",
      "PNRA-DVVZ-NDVV-Northern_Davies_Valley_set1-CFM4\n",
      "PNRA-DVVZ-WDVV-West_Davies_Valley_fault-CFM4\n",
      "PNRA-ELSZ-CHNO-Chino_fault-Central_Ave-CFM4\n",
      "PNRA-ELSZ-CHNO-Chino_fault-main-CFM4\n",
      "PNRA-ELSZ-CYMT-Elsinore_fault-CFM4\n",
      "PNRA-ELSZ-GLIV-Glen_Ivy_North_fault-CFM4\n",
      "PNRA-ELSZ-GLIV-Glen_Ivy_South_fault-CFM4\n",
      "PNRA-ELSZ-INDV-Indiviso_fault-CFM4\n",
      "PNRA-ELSZ-INDV-Indiviso_fault-splay-CFM4\n",
      "PNRA-ELSZ-JULN-Elsinore_fault-north-CFM4\n",
      "PNRA-ELSZ-JULN-Elsinore_fault-south-CFM4\n",
      "PNRA-ELSZ-JULN-Elsinore_fault-Wildomar-link-CFM4\n",
      "PNRA-ELSZ-LGSD-Laguna_Salada_fault-east_branch-dipping-CFM5\n",
      "PNRA-ELSZ-LGSD-Laguna_Salada_fault-east_branch-dipping-splay-CFM5\n",
      "PNRA-ELSZ-LGSD-Laguna_Salada_fault-north-CFM5\n",
      "PNRA-ELSZ-LGSD-Laguna_Salada_fault-south-CFM5\n",
      "PNRA-ELSZ-LGSD-Laguna_Salada_fault-west_branch-center-CFM5\n",
      "PNRA-ELSZ-LGSD-Laguna_Salada_fault-west_branch-deep_splay-CFM5\n",
      "PNRA-ELSZ-LGSD-Laguna_Salada_fault-west_branch-east-CFM5\n",
      "PNRA-ELSZ-LGSD-Laguna_Salada_fault-west_branch-west-CFM5\n",
      "PNRA-ELSZ-SRCP-Borrego_fault-CFM4\n",
      "PNRA-ELSZ-SRCP-Paso_Inferior_fault-CFM4\n",
      "PNRA-ELSZ-SRCP-Paso_Superior_fault-CFM4\n",
      "PNRA-ELSZ-SRCP-Pescadores_fault-CFM4\n",
      "PNRA-ELSZ-SRCP-Sierra_Cucapah_fault-CFM4\n",
      "PNRA-ELSZ-TMCL-Wildomar_fault-CFM4\n",
      "PNRA-ELSZ-TMCL-Willard_fault-CFM4\n",
      "PNRA-ELSZ-WHIT-East_Montebello_fault-CFM3\n",
      "PNRA-ELSZ-WHIT-Whittier_fault-CFM4\n",
      "PNRA-ELSZ-WHIT-Whittier_Heights_fault-CFM1\n",
      "PNRA-ELSZ-WHIT-Workman_Hill_fault-CFM1\n",
      "PNRA-ELSZ-YUHA-Sierra_Cucapah_fault-blind-north-CFM5\n",
      "PNRA-ELSZ-YUHA-Sierra_Cucapah_fault-NW_splay-CFM5\n",
      "PNRA-NIRC-LABS-Newport-Inglewood_fault-split-CFM2\n",
      "PNRA-NIRC-OCNS-Newport-Inglewood_fault-RC_link-CFM2\n",
      "PNRA-NIRC-OFFS-Newport-Inglewood_fault-CFM2\n",
      "PNRA-NIRC-RSCN-Rose_Canyon_fault-CFM2\n",
      "PNRA-SJFZ-ANZA-Buck_Ridge_fault-CFM4\n",
      "PNRA-SJFZ-ANZA-Clark_fault-north-CFM4\n",
      "PNRA-SJFZ-ANZA-Clark_fault-south-east-CFM4\n",
      "PNRA-SJFZ-ANZA-Clark_fault-south-main-CFM4\n",
      "PNRA-SJFZ-ANZA-Clark_fault-south-west-CFM4\n",
      "PNRA-SJFZ-ANZA-Clark_fault-south-west-link-CFM4\n",
      "PNRA-SJFZ-ANZA-Hot_Springs-Buck_Ridge_link-CFM4\n",
      "PNRA-SJFZ-BRMT-Coyote_Creek_blind_fault-northeast-CFM4\n",
      "PNRA-SJFZ-BRMT-Coyote_Creek_fault-CFM4\n",
      "PNRA-SJFZ-CYTC-Coyote_Creek_fault-center-east_splay-CFM4\n",
      "PNRA-SJFZ-CYTC-Coyote_Creek_fault-CFM4\n",
      "PNRA-SJFZ-IMPV-Dixieland_fault-CFM5\n",
      "PNRA-SJFZ-IMPV-Weinert_El_Centro_fault-CFM5\n",
      "PNRA-SJFZ-IMPV-Weinert_Superstition_Hills_link-CFM5\n",
      "PNRA-SJFZ-SBRN-Glen_Helen_fault-CFM4\n",
      "PNRA-SJFZ-SBRN-Loma_Linda_fault-CFM4\n",
      "PNRA-SJFZ-SBRN-Lytle_Creek_fault-CFM4\n",
      "PNRA-SJFZ-SBRN-Rialto-Colton_fault-CFM4\n",
      "PNRA-SJFZ-SBRN-San_Jacinto-Claremont_fault-CFM4\n",
      "PNRA-SJFZ-SJCV-Casa_Loma_fault-CFM4\n",
      "PNRA-SJFZ-SJCV-Claremont_fault-CFM4\n",
      "PNRA-SJFZ-SJCV-Hot_Springs_fault-CFM4\n",
      "PNRA-SJFZ-SJCV-Hot_Springs_fault-west-CFM4\n",
      "PNRA-SJFZ-SJCV-San_Jacinto-Claremont_fault-east-CFM4\n",
      "PNRA-SJFZ-SSHS-Superstition_Hills_fault-CFM4\n",
      "PNRA-SJFZ-SSMT-Superstition_Mountain_fault-CFM4\n",
      "PNRA-SJFZ-SSMT-West_Mesa_fault-CFM5\n",
      "SAFS-MHFZ-LSBM-Berdoo_Canyon_fault-CFM4\n",
      "SAFS-MHFZ-LSBM-Indio_Hills_fault-CFM4\n",
      "SAFS-MHFZ-MCHS-Hidden_Springs_fault-CFM4\n",
      "SAFS-MHFZ-MCHS-Mecca_Hills_fault-CFM4\n",
      "SAFS-MHFZ-MCHS-Painted_Canyon_fault-CFM4\n",
      "SAFS-MHFZ-MULT-Mecca_Hills-Hidden_Springs_fault-deep-CFM4\n",
      "SAFS-SAFZ-BSZS-Southern_San_Andreas_blind_extension-CFM4\n",
      "SAFS-SAFZ-CLCZ-San_Andreas_fault-CHLM-CFM4\n",
      "SAFS-SAFZ-CLCZ-San_Andreas_fault-CRRZ-CFM4\n",
      "SAFS-SAFZ-COAV-Mission_Creek_fault_strand-CFM4\n",
      "SAFS-SAFZ-COAV-North_Palm_Springs_fault-CFM4\n",
      "SAFS-SAFZ-COAV-Southern_San_Andreas_fault-CFM4\n",
      "SAFS-SAFZ-MJVS-San_Andreas_fault-CFM4\n",
      "SAFS-SAFZ-MULT-Banning_fault_strand-CFM4\n",
      "SAFS-SAFZ-MULT-Garnet_Hill_fault_strand-CFM4\n",
      "SAFS-SAFZ-PARK-San_Andreas_fault-CFM4\n",
      "SAFS-SAFZ-SBMT-Mill_Creek_fault_strand-CFM4\n",
      "SAFS-SAFZ-SBMT-Mission_Creek_fault_strand-steep-CFM4\n",
      "SAFS-SAFZ-SBMT-San_Andreas_fault-CFM4\n",
      "SAFS-SGPR-CHFZ-Casa_Blanca_fault-CFM5\n",
      "SAFS-SGPR-CHFZ-Chicken_Hill_fault-CFM5\n",
      "SAFS-SGPR-CHFZ-Live_Oak_Canyon_fault-CFM5\n",
      "SAFS-SGPR-CHFZ-Redlands_fault-CFM5\n",
      "SAFS-SGPR-CHFZ-Reservoir_Canyon_fault-CFM5\n",
      "SAFS-SGPR-CHFZ-Western_Heights_fault-CFM5\n",
      "SAFS-SGPR-DTMT-San_Gorgonio_Pass_deep_detachment-CFM5\n",
      "SAFS-SGPR-DTMT-San_Gorgonio_Pass_midcrust_detachment-CFM5\n",
      "SAFS-SGPR-SBRN-Del_Rosa_cross_fault-CFM5\n",
      "SAFS-SGPR-SBRN-San_Bernardino_cross_fault-CFM5\n",
      "SAFS-SGPR-SGPS-San_Gorgonio_Pass_thrust-CFM4\n",
      "SAFS-SGPR-SJMT-Palm_Springs_blind_fault-CFM4\n",
      "SAFS-SGPR-SJMT-Potatochip1_blind_fault-CFM5\n",
      "SAFS-SGPR-SJMT-Potatochip2_blind_fault-CFM5\n",
      "SAFS-SGPR-SJMT-Potatochip4_blind_fault-CFM5\n",
      "SAFS-SGPR-SJMT-Potatochip5_blind_fault-CFM5\n",
      "SALT-BRSZ-BRFZ-Brawley_fault-CFM5\n",
      "SALT-CPFZ-CRPR-Cierro_Prieto_fault-CFM1\n",
      "SALT-CRSF-IMPV-Elmore_Ranch_fault-CFM1\n",
      "SALT-CRSF-IMPV-Extra_fault-CFM3\n",
      "SALT-CRSF-IMPV-Westmorland_fault-main-CFM4\n",
      "SALT-CRSF-IMPV-Westmorland_fault-splay-CFM4\n",
      "SALT-IMFZ-IMPV-Imperial_fault-east-strand-south-CFM5\n",
      "SALT-IMFZ-IMPV-Imperial_fault-east_strand-north-CFM5\n",
      "SALT-IMFZ-IMPV-Imperial_fault-Edip-Nend-CFM5\n",
      "SALT-IMFZ-IMPV-Imperial_fault-north_end-CFM5\n",
      "SNFA-AHTC-ASHH-Ash_Hill_fault-CFM2\n",
      "SNFA-AHTC-TANK-Tank_Canyon_fault-CFM2\n",
      "SNFA-HMFZ-MULT-Hunter_Mountain_fault-CFM1\n",
      "SNFA-LLFZ-CNTR-Little_Lake_fault-CFM1\n",
      "SNFA-OWFZ-1872-Owens_Valley_fault_rupture-CFM1\n",
      "SNFA-PMVZ-MULT-Panamint_Valley_fault-steep-CFM2\n",
      "SNFA-SNFZ-INDP-Independance_fault-CFM1\n",
      "SNFA-SNFZ-MULT-Independance-Sierra_Nevada_fault-CFM1\n",
      "WTRA-MRFS-MULT-Mission_Ridge-Arroyo_Parida_fault-dip-CFM5\n",
      "WTRA-NCVS-MULT-Southern_San_Cayetano-Ventura-Pitas_Point_fault-ramp_flat-HBRD-CFM5\n",
      "WTRA-NCVS-MULT-Southern_San_Cayetano-Ventura-Pitas_Point_fault-steep-JHAP-CFM5\n",
      "WTRA-NCVS-NCPP-North_Channel_fault-SRLN-CFM5\n",
      "WTRA-NCVS-PPTV-Pitas_Point_fault-CFM5\n",
      "WTRA-NCVS-PPTV-Pitas_Point_fault-HBRD-CFM5\n",
      "WTRA-NCVS-PPTV-Ventura-Pitas_Point_fault-link-CFM5\n",
      "WTRA-NCVS-RDMT-Red_Mountain_fault-east-CFM5\n",
      "WTRA-NCVS-VNTB-Ventura_fault-CFM5\n",
      "WTRA-ORFZ-OFFS-Mid-Channel_fault-SRLN-CFM4\n",
      "WTRA-ORFZ-OFFS-Oak_Ridge_fault-MRSH-CFM5\n",
      "WTRA-ORFZ-SFNV-Northridge-Frew_fault-CFM2\n",
      "WTRA-ORFZ-VNTB-Oak_Ridge_fault-MRSH-CFM5\n",
      "WTRA-PHTS-COYT-Puente_Hills_Thrust_fault-CFM2\n",
      "WTRA-PHTS-LABS-Las_Cienagas_fault-truncated-CFM1\n",
      "WTRA-PHTS-LABS-Puente_Hills_thrust_fault-CFM1\n",
      "WTRA-PHTS-LABS-San_Vicente_fault-CFM1\n",
      "WTRA-PHTS-LABS-Upper_Elysian_Park_fault-CFM1\n",
      "WTRA-PHTS-PRTH-Peralta_Hills_fault-CFM1\n",
      "WTRA-PHTS-RICH-Puente_Hills_thrust_fault-CFM2\n",
      "WTRA-PHTS-STFS-Puente_Hills_thrust_fault-CFM2\n",
      "WTRA-SBTS-ANCP-Anacapa-Dume_fault-CFM3\n",
      "WTRA-SBTS-MULT-Channel_Islands_thrust_fault-SHAW-CFM1\n",
      "WTRA-SBTS-SMNB-Santa_Monica_Bay_fault-CFM3\n",
      "WTRA-SCFZ-MULT-San_Cayetano_fault-60dip-CFM5\n",
      "WTRA-SCFZ-SCVA-Del_Valle_fault-CFM1\n",
      "WTRA-SCFZ-SCVA-Holser_fault-CFM1\n",
      "WTRA-SFFS-ANCP-Malibu_Coast_fault-west-steep-alt2-CFM5\n",
      "WTRA-SFFS-LABS-Hollywood_fault-CFM5\n",
      "WTRA-SFFS-LABS-North_Salt_Lake_blind_fault-CFM3\n",
      "WTRA-SFFS-SGVS-Raymond_fault-extended-CFM5\n",
      "WTRA-SFFS-SMMT-Malibu_Coast_fault-east-steep-alt2-CFM5\n",
      "WTRA-SFFS-SMMT-Santa_Monica_fault-steep-CFM5\n",
      "WTRA-SFFS-SNCZ-Santa_Cruz_Island_fault-CFM5\n",
      "WTRA-SFFS-SNRS-Santa_Rosa_Island_fault-CFM5\n",
      "WTRA-SFNS-MSNH-Mission_Hills_fault-CFM4\n",
      "WTRA-SFNS-SFNV-Northridge_Hills_fault-truncated-CFM3\n",
      "WTRA-SFNS-SFNV-San_Fernando_fault-CFM4\n",
      "WTRA-SFNS-VRDM-Eagle_Rock_fault-steep-CFM5\n",
      "WTRA-SFNS-VRDM-Verdugo_fault-steep-CFM5\n",
      "WTRA-SGFZ-BTJG-San_Gabriel_splay-CFM4\n",
      "WTRA-SGFZ-MULT-Southern_San_Gabriel_fault-CFM4\n",
      "WTRA-SGFZ-PLMS-Northern_San_Gabriel_fault-CFM4\n",
      "WTRA-SGMF-SANC-San_Antonio_Canyon_fault-CFM4\n",
      "WTRA-SLCZ-SPMT-Lion_Canyon_fault-HBRD-CFM5\n",
      "WTRA-SMFZ-CCMG-Cucamonga_fault-alt1-CFM4\n",
      "WTRA-SMFZ-CCMG-Cucamonga_fault-CFM4\n",
      "WTRA-SMFZ-CSPC-Clamshell_Sawpit_Canyon_fault-CFM4\n",
      "WTRA-SMFZ-MULT-Sierra_Madre_fault-west-CFM4\n",
      "WTRA-SMFZ-SMCC-Sierra_Madre_fault-low-dip-CFM4\n",
      "WTRA-SMFZ-SMDD-Sierra_Madre_fault-low-dip-CFM4\n",
      "WTRA-SMFZ-SMDE-Sierra_Madre-Cucamonga_connector-CFM4\n",
      "WTRA-SMFZ-SMDE-Sierra_Madre_fault-low-dip-CFM4\n",
      "WTRA-SSFZ-MULT-Santa_Susana_fault-CFM1\n",
      "WTRA-SSRZ-MULT-Simi-Santa_Rosa_fault-listric-CFM5\n",
      "WTRA-SSRZ-OXNP-Bailey_fault-steep-CFM5\n",
      "WTRA-SYFZ-MULT-Santa_Ynez_fault-60dip-CFM5\n",
      "WTRA-USAV-INDH-Indian_Hill_fault-CFM5\n",
      "WTRA-USAV-SNJH-San_Jose_fault-CFM5\n",
      "WTRA-USAV-UPLD-Upland_fault-dipslip-CFM1\n",
      "WTRA-USAV-WLNC-Walnut_Creek_fault-CFM5\n"
     ]
    }
   ],
   "source": [
    "#Read in a few of those faults as PyMesh meshes\n",
    "\n",
    "fault_meshes = []\n",
    "for fault in all_faults:\n",
    "    try:  #Still some bugs in the goCad-parser\n",
    "        vertices, faces = read_tsurf(fault)\n",
    "        F = np.array(faces).astype('int32')\n",
    "        V = np.array(vertices).astype('float64')\n",
    "        faultmesh = pymesh.form_mesh(V, F)\n",
    "        fault_meshes.append(faultmesh)\n",
    "    except:\n",
    "        pass"
   ]
  },
  {
   "cell_type": "code",
   "execution_count": 7,
   "metadata": {
    "collapsed": false
   },
   "outputs": [
    {
     "data": {
      "text/plain": [
       "322"
      ]
     },
     "execution_count": 7,
     "metadata": {},
     "output_type": "execute_result"
    }
   ],
   "source": [
    "len(fault_meshes)"
   ]
  },
  {
   "cell_type": "code",
   "execution_count": 8,
   "metadata": {
    "collapsed": false
   },
   "outputs": [],
   "source": [
    "#Get the bounding box of all faults, just as a quick way to define a domain:\n",
    "\n",
    "bbox = fault_meshes[0].bbox\n",
    "for surf in fault_meshes:\n",
    "    fbox = surf.bbox\n",
    "    bbox = (np.minimum(bbox[0],fbox[0]), np.maximum(bbox[1],fbox[1]))\n",
    "    \n",
    "\n",
    "#test1.bbox"
   ]
  },
  {
   "cell_type": "markdown",
   "metadata": {},
   "source": [
    "## Underworld"
   ]
  },
  {
   "cell_type": "code",
   "execution_count": 2,
   "metadata": {
    "collapsed": false
   },
   "outputs": [],
   "source": [
    "try :\n",
    "    if(__IPYTHON__) :\n",
    "        get_ipython().magic(u'matplotlib inline')\n",
    "except NameError :\n",
    "    pass\n",
    "\n",
    "import math\n",
    "import os\n",
    "\n",
    "import underworld as uw\n",
    "from underworld import function as fn\n",
    "from underworld import meshvariable as meshvariable\n",
    "import glucifer\n",
    "\n",
    "import mpi4py\n",
    "comm = mpi4py.MPI.COMM_WORLD"
   ]
  },
  {
   "cell_type": "code",
   "execution_count": 11,
   "metadata": {
    "collapsed": false
   },
   "outputs": [],
   "source": [
    "minX  = bbox[0][0]\n",
    "minY  = bbox[0][1]\n",
    "minZ  = bbox[0][2]\n",
    "\n",
    "maxX  = bbox[1][0]\n",
    "maxY  = bbox[1][1]\n",
    "maxZ  = 0.0 #Make this one at surface\n",
    "#minXv = -1.0\n",
    "#maxXv =  1.0\n",
    "\n",
    "resX = 32\n",
    "resY = 32\n",
    "resZ = 8\n",
    "\n",
    "elementType=\"Q2/dPc1\"  # This is enough for a test but not to use the code in anger\n",
    "\n",
    "mesh = uw.mesh.FeMesh_Cartesian( elementType = (elementType), \n",
    "                                 elementRes  = ( resX, resY, resZ), \n",
    "                                 minCoord    = ( minX, minY, minZ), \n",
    "                                 maxCoord    = ( maxX, maxY, maxZ),\n",
    "                                 periodic    = [False, False, False]  ) \n",
    "\n",
    "\n",
    "\n",
    "velocityField    = uw.mesh.MeshVariable( mesh=mesh,         nodeDofCount=mesh.dim )\n",
    "pressureField    = uw.mesh.MeshVariable( mesh=mesh.subMesh, nodeDofCount=1 )\n",
    "\n",
    "velocityField.data[:] = [0.,0.,0.]\n",
    "pressureField.data[:] = 0."
   ]
  },
  {
   "cell_type": "markdown",
   "metadata": {},
   "source": [
    "## Initialise swarm variables"
   ]
  },
  {
   "cell_type": "code",
   "execution_count": 12,
   "metadata": {
    "collapsed": true
   },
   "outputs": [],
   "source": [
    "swarm  = uw.swarm.Swarm( mesh=mesh )\n",
    "swarmLayout = uw.swarm.layouts.GlobalSpaceFillerLayout( swarm=swarm, particlesPerCell=50 )\n",
    "swarm.populate_using_layout( layout=swarmLayout )\n",
    "\n",
    "# For population control, make this an integration swarm\n",
    "popSwarm = uw.swarm.PICIntegrationSwarm(swarm, particlesPerCell=10)\n",
    "\n",
    "surfaceSwarm = uw.swarm.Swarm( mesh=mesh )\n",
    "deformationSwarm = uw.swarm.Swarm ( mesh=mesh )\n",
    "\n",
    "materialVariable = swarm.add_variable( dataType=\"int\", count=1 )\n",
    "faultDistance = swarm.add_variable( dataType=\"float\", count=1 )\n"
   ]
  },
  {
   "cell_type": "code",
   "execution_count": 13,
   "metadata": {
    "collapsed": true
   },
   "outputs": [],
   "source": [
    "materialV = 0 # viscoplastic\n",
    "materialF = 1 # nearfault"
   ]
  },
  {
   "cell_type": "code",
   "execution_count": 14,
   "metadata": {
    "collapsed": true
   },
   "outputs": [],
   "source": [
    "materialVariable.data[:] = 0\n",
    "faultDistance.data[:] = 1e6 #a meaningless number "
   ]
  },
  {
   "cell_type": "code",
   "execution_count": 15,
   "metadata": {
    "collapsed": false
   },
   "outputs": [
    {
     "data": {
      "text/plain": [
       "(409600, 3)"
      ]
     },
     "execution_count": 15,
     "metadata": {},
     "output_type": "execute_result"
    }
   ],
   "source": [
    "swarm.particleCoordinates.data.shape"
   ]
  },
  {
   "cell_type": "code",
   "execution_count": 16,
   "metadata": {
    "collapsed": false
   },
   "outputs": [],
   "source": [
    "## Lets compute the distance information. Three values are returned in the tuple.\n",
    "\n",
    "#squared_distances: squared distances from each point to mesh.\n",
    "#face_indices : the closest face to each point.\n",
    "#closest_points: the point on mesh that is closest to each\n",
    " "
   ]
  },
  {
   "cell_type": "code",
   "execution_count": 17,
   "metadata": {
    "collapsed": true
   },
   "outputs": [],
   "source": [
    "distances = pymesh.distance_to_mesh(fault_meshes[0], swarm.particleCoordinates.data[:])"
   ]
  },
  {
   "cell_type": "code",
   "execution_count": 18,
   "metadata": {
    "collapsed": true
   },
   "outputs": [],
   "source": [
    "actual_dist = np.sqrt(distances[0])"
   ]
  },
  {
   "cell_type": "code",
   "execution_count": 19,
   "metadata": {
    "collapsed": false
   },
   "outputs": [
    {
     "data": {
      "text/plain": [
       "(409600, 1)"
      ]
     },
     "execution_count": 19,
     "metadata": {},
     "output_type": "execute_result"
    }
   ],
   "source": [
    "faultDistance.data.shape"
   ]
  },
  {
   "cell_type": "code",
   "execution_count": 20,
   "metadata": {
    "collapsed": false
   },
   "outputs": [
    {
     "data": {
      "text/plain": [
       "array([ 1000000.,  1000000.,  1000000., ...,  1000000.,  1000000.,\n",
       "        1000000.], dtype=float32)"
      ]
     },
     "execution_count": 20,
     "metadata": {},
     "output_type": "execute_result"
    }
   ],
   "source": [
    "faultDistance.data[:,0]"
   ]
  },
  {
   "cell_type": "code",
   "execution_count": 21,
   "metadata": {
    "collapsed": false
   },
   "outputs": [
    {
     "data": {
      "text/plain": [
       "(409600,)"
      ]
     },
     "execution_count": 21,
     "metadata": {},
     "output_type": "execute_result"
    }
   ],
   "source": [
    "test = np.minimum.reduce([faultDistance.data[:, 0],actual_dist])\n",
    "test.shape"
   ]
  },
  {
   "cell_type": "code",
   "execution_count": 22,
   "metadata": {
    "collapsed": false
   },
   "outputs": [
    {
     "data": {
      "text/plain": [
       "17"
      ]
     },
     "execution_count": 22,
     "metadata": {},
     "output_type": "execute_result"
    }
   ],
   "source": [
    "len(fault_meshes[::20])"
   ]
  },
  {
   "cell_type": "code",
   "execution_count": 23,
   "metadata": {
    "collapsed": false
   },
   "outputs": [
    {
     "data": {
      "text/plain": [
       "(409600,)"
      ]
     },
     "execution_count": 23,
     "metadata": {},
     "output_type": "execute_result"
    }
   ],
   "source": [
    "distance_array = np.copy(faultDistance.data)\n",
    "distance_array[:, 0].shape"
   ]
  },
  {
   "cell_type": "code",
   "execution_count": 24,
   "metadata": {
    "collapsed": false
   },
   "outputs": [
    {
     "data": {
      "text/plain": [
       "(409600,)"
      ]
     },
     "execution_count": 24,
     "metadata": {},
     "output_type": "execute_result"
    }
   ],
   "source": [
    "distance_array = np.ones(len(swarm.particleCoordinates.data[:]))\n",
    "distance_array.shape"
   ]
  },
  {
   "cell_type": "code",
   "execution_count": 25,
   "metadata": {
    "collapsed": false
   },
   "outputs": [
    {
     "name": "stdout",
     "output_type": "stream",
     "text": [
      "finished 1\n",
      "finished 2\n",
      "finished 3\n",
      "finished 4\n",
      "finished 5\n",
      "finished 6\n",
      "finished 7\n",
      "finished 8\n",
      "finished 9\n",
      "finished 10\n",
      "finished 11\n",
      "finished 12\n",
      "finished 13\n",
      "finished 14\n",
      "finished 15\n",
      "finished 16\n"
     ]
    }
   ],
   "source": [
    "#I found there are particular faults that were casusing wierd PETSC? crashes; \n",
    "\n",
    "distance_array = np.ones(len(swarm.particleCoordinates.data[:]))*1e7\n",
    "count = 1\n",
    "for fault in fault_meshes[2::20]:\n",
    "    distances = pymesh.distance_to_mesh(fault, swarm.particleCoordinates.data[:])\n",
    "    actual_dist = distances[0]\n",
    "    distance_array[:] = np.minimum.reduce([distance_array[:] ,actual_dist])\n",
    "    print(\"finished \" + str(count))\n",
    "    %xdel distances\n",
    "    %xdel actual_dist\n",
    "    count += 1"
   ]
  },
  {
   "cell_type": "code",
   "execution_count": 26,
   "metadata": {
    "collapsed": false
   },
   "outputs": [],
   "source": [
    "faultDistance.data[:,0] = np.sqrt(distance_array[:])"
   ]
  },
  {
   "cell_type": "code",
   "execution_count": 27,
   "metadata": {
    "collapsed": false
   },
   "outputs": [],
   "source": [
    "conditions = [ (       faultDistance > 1e3 , materialV ),\n",
    "               (       True ,           materialF ) ]\n",
    "\n",
    "materialVariable.data[:] = fn.branching.conditional( conditions ).evaluate(swarm)"
   ]
  },
  {
   "cell_type": "code",
   "execution_count": 30,
   "metadata": {
    "collapsed": false
   },
   "outputs": [
    {
     "data": {
      "text/html": [
       "<img src='data:image/png;base64,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'>"
      ],
      "text/plain": [
       "<IPython.core.display.HTML object>"
      ]
     },
     "execution_count": 30,
     "metadata": {},
     "output_type": "execute_result"
    }
   ],
   "source": [
    "figMat = glucifer.Figure()\n",
    "figMat.append( glucifer.objects.Points(swarm, materialVariable, pointSize=4.0, fn_mask=materialVariable) )\n",
    "#figMat.append( glucifer.objects.Mesh(mesh))\n",
    "figMat.save_database('test.gldb')\n",
    "figMat.show()"
   ]
  },
  {
   "cell_type": "code",
   "execution_count": null,
   "metadata": {
    "collapsed": true
   },
   "outputs": [],
   "source": []
  }
 ],
 "metadata": {
  "kernelspec": {
   "display_name": "Python 2",
   "language": "python",
   "name": "python2"
  },
  "language_info": {
   "codemirror_mode": {
    "name": "ipython",
    "version": 2
   },
   "file_extension": ".py",
   "mimetype": "text/x-python",
   "name": "python",
   "nbconvert_exporter": "python",
   "pygments_lexer": "ipython2",
   "version": "2.7.11"
  }
 },
 "nbformat": 4,
 "nbformat_minor": 0
}
